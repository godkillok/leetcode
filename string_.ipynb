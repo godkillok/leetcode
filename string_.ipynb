{
 "cells": [
  {
   "cell_type": "markdown",
   "metadata": {},
   "source": [
    " # Trie (前缀树)\n"
   ]
  },
  {
   "cell_type": "markdown",
   "metadata": {},
   "source": [
    "讲原理比较清楚的  \n",
    "https://www.cnblogs.com/moonandstar08/p/5525344.html  \n",
    "讲应用比较清楚的  \n",
    "http://dongxicheng.org/structure/trietree/  \n",
    "面试题  \n",
    "https://blog.csdn.net/roney123/article/details/51500999  \n"
   ]
  },
  {
   "cell_type": "markdown",
   "metadata": {},
   "source": [
    "# 字符串滑动窗口\n",
    "\n",
    "基本思路是维护一个窗口，每次关注窗口中的字符串，在每次判断中，左窗口和右窗口选择其一向前移动。同样是维护一个HashSet, 正常情况下移动右窗口，如果没有出现重复则继续移动右窗口，如果发现重复字符，则说明当前窗口中的串已经不满足要求，继续移动有窗口不可能得到更好的结果，此时移动左窗口，直到不再有重复字符为止，中间跳过的这些串中不会有更好的结果，因为他们不是重复就是更短。因为左窗口和右窗口都只向前，所以两个窗口都对每个元素访问不超过一遍，因此时间复杂度为O(2*n)=O(n),是线性算法。空间复杂度为HashSet的size,也是O(n). \n",
    "\n",
    "**[例子](https://zhuanlan.zhihu.com/p/37440408)**\n",
    "\n",
    "1. 举个例子：[1, 7, 5, 6, 7, 8]在这个数组中找到相邻的任意个数使和为13，求其中符合题意最短的个数。通过肉眼发现目前符合题意的有[1,7,5]和[6,7]。\n",
    "2. 使用暴力的循环，可以解决问题，但是时间复杂度变为了O(n2)\n",
    "3. 这是我们就需要使用滑动窗口，我们设定一个窗口在数组上面从左往右滚动，初始情况下窗口的大小为 【0,0】 ，一个元素都没有;\n",
    "4. 我们检查窗口中元素的和是否小于13，当前是0所以小于13，我们就需要将窗口变大，变为【0,1】，也就是把窗口的右边界往右推，让他吃进第0个元素1，现在1仍然小于13，继续推动右边界，【0,2】和8，【0,3】和为13，现在和等于13了，我们记下当前的长度。\n",
    "5. 然后将左边界向右推动，因为我们要寻找最短的长度，只有将左边界向右推才能使长度更短，按照步骤执行，当窗口推到最右边，窗口长度又变为0时，本次推动结束滑动窗口的局限性在于只适用于求连续问题，但是好处是可以大幅度降低时间复杂度。\n",
    "[code可以参考](https://zhuanlan.zhihu.com/p/37440408)\n",
    "\n",
    "模板：\n",
    "1. 初始化窗口的范围:\n",
    "初始值是[0, -1]代表当前窗口没有元素。\n",
    "left, right = 0, -1  # [left...right]\n",
    "\n",
    "2. 终止条件\n",
    "在最终时刻左边界推到末端，右边界也推到末端。但是右边界会比左边界先推到末端，所以判断中只需要判断左边界即可。也就是左边界必须是在字符串范围内的\n",
    "while left < len(s):\n",
    "\n",
    "3. 移动条件\n",
    "结合提议\n",
    "\n",
    "\n",
    "方法小结\n",
    "\n",
    "可以说滑动窗口这种思想，关键点在于：\n",
    "1、map中存储值的意义\n",
    "2、窗口什么时候扩展和收缩，对应于left和right值什么时候发生变化。\n",
    "在解题的时候，首先尝试扩展窗口right，看看什么时候包含了一个结果，记录结果。然后缩小左边界left，直到窗口不在包含一个可能解！接着就可以继续扩展窗口了，以此类推。\n",
    "https://blog.csdn.net/yy254117440/article/details/53025142 \n",
    "\n",
    "\n",
    "https://blog.csdn.net/danjuanzi2684/article/details/83344517\n",
    "\n",
    "https://www.cnblogs.com/jiangchen/p/5975730.html\n",
    "\n",
    "\n",
    "https://blog.csdn.net/fangjian1204/article/details/38582181\n",
    "\n",
    "\n"
   ]
  },
  {
   "cell_type": "code",
   "execution_count": 3,
   "metadata": {},
   "outputs": [],
   "source": [
    "##leetcode-003. 无重复字符的最长子串\n",
    "# 给定一个字符串，找出不含有重复字符的最长子串的长度。\n",
    "# 示例：\n",
    "# 给定 \"pwwkew\" ，最长子串是 \"wke\" ，长度是3。请注意答案必须是一个子串，\"pwke\" 是 子序列 而不是子串。\n",
    "\n",
    "\n",
    "class Solution:\n",
    "\n",
    "    def lengthOfLongestSubstring(self, s):\n",
    "        \"\"\"\n",
    "        1. 滑动窗口：左闭右闭。初始值-[0, -1]。\n",
    "        2. 辅助变量：\n",
    "            （1）符合条件的滑动窗口最长长度，初始值0。\n",
    "        3. 终止条件：左边界推到末端，右边界也推到末端。但是右边界会比左边界先推到末端，所以判断中只需要判断左边界即可。\n",
    "        4. 移动条件：窗口右边的值是否在窗口中，是左边界右移动，不是右边界右移动。\n",
    "        5. 改变结果：当前的滑动窗口是最大长度。\n",
    "        6. 返回值：窗口最大长度\n",
    "        \"\"\"\n",
    "        left, right = 0, -1  # [left...right]\n",
    "\n",
    "        max_len = 0\n",
    "\n",
    "        # 终止条件\n",
    "        while left < len(s):\n",
    "\n",
    "            if right + 1 < len(s) and s[right + 1] not in s[left:right + 1]:\n",
    "                right += 1\n",
    "            else:\n",
    "                left += 1\n",
    "\n",
    "            max_len = max(max_len, right - left + 1)\n",
    "\n",
    "        return max_len\n",
    "\n",
    "    def lengthOfLongestSubstring02(self, s):\n",
    "        \"\"\"\n",
    "        1. 优化(一): 用set代替字符串的查询\n",
    "        \"\"\"\n",
    "        left, right = 0, -1  # [left...right]\n",
    "\n",
    "        max_len = 0\n",
    "\n",
    "        # 优化一\n",
    "        window_ele = set()\n",
    "\n",
    "        while left < len(s):\n",
    "\n",
    "            if right + 1 < len(s) and s[right + 1] not in window_ele:\n",
    "                window_ele.add(s[right + 1])\n",
    "                right += 1\n",
    "            else:\n",
    "                window_ele.remove(s[left])\n",
    "                left += 1\n",
    "\n",
    "            max_len = max(max_len, right - left + 1)\n",
    "\n",
    "        return max_len\n",
    "\n",
    "    def lengthOfLongestSubstring03(self, s):\n",
    "        \"\"\"\n",
    "        1. 优化：直接找到重复的位置\n",
    "        \"\"\"\n",
    "        left, right = 0, -1  # [left...right]\n",
    "\n",
    "        max_len = 0\n",
    "\n",
    "        while left < len(s):\n",
    "            if right + 1 >= len(s):\n",
    "                break\n",
    "\n",
    "            search = s.find(s[right + 1], left, right + 1)\n",
    "\n",
    "            if search == -1:\n",
    "                right += 1\n",
    "            else:\n",
    "                left = search + 1\n",
    "\n",
    "            max_len = max(max_len, right - left + 1)\n",
    "\n",
    "        return max_len"
   ]
  },
  {
   "cell_type": "code",
   "execution_count": 22,
   "metadata": {},
   "outputs": [
    {
     "name": "stdout",
     "output_type": "stream",
     "text": [
      "[0, 4]\n"
     ]
    }
   ],
   "source": [
    "#leetcode-438.找到字符串中所有字母异位词\n",
    "from collections import Counter\n",
    "def find_an(source,target):\n",
    "    left, right = 0, -1\n",
    "    target_list=[i for i in target]\n",
    "    target_counter = Counter(target_list)\n",
    "    s_l=len(source)\n",
    "    found_index=[]\n",
    "    target_len=len(target_list)\n",
    "    cur_dict={}\n",
    "    while right+1<s_l:\n",
    "\n",
    "        if   right-left+1==target_len: #区间只有先等于目标长度 才能接着谈是否一致\n",
    "            \n",
    "            right+=1\n",
    "            if source[right] in target_list:\n",
    "                cur_dict[source[right]]=cur_dict.get(source[right], 0)+1\n",
    "            if source[left] in target_list:\n",
    "                cur_dict[source[left]]=cur_dict.get(source[left], 0)-1    \n",
    "            left+=1\n",
    "            \n",
    "        elif right-left+1<target_len:#区间不等于目标长度 发生在刚开始的几个 \n",
    "            right+=1\n",
    "            if source[right] in target_list:\n",
    "                cur_dict[source[right]]=cur_dict.get(source[right], 0)+1\n",
    "        \n",
    "        if cur_dict==target_counter:  #不管怎么挪，挪完之后都去判断下\n",
    "                found_index.append(left)\n",
    "            \n",
    "    return found_index\n",
    "        \n",
    "s='abcdabc'\n",
    "p='abc'\n",
    "print(find_an(s,p))"
   ]
  },
  {
   "cell_type": "code",
   "execution_count": 29,
   "metadata": {
    "scrolled": false
   },
   "outputs": [
    {
     "name": "stdout",
     "output_type": "stream",
     "text": [
      "{}\n",
      "{'a': 1}\n",
      "{'a': 1, 'b': 1}\n",
      "[0, 3]\n",
      "left 0\n",
      "[1, 3]\n",
      "left 1\n",
      "{'a': 0, 'b': 1, 'c': 1}\n",
      "(3, [1, 3])\n"
     ]
    }
   ],
   "source": [
    "\n",
    "def min_window(source,target):\n",
    "    from collections import Counter\n",
    "    left, right =0, -1\n",
    "    target_list=[i for i in target]\n",
    "    target_counter = Counter(target_list)\n",
    "    s_l=len(source)\n",
    "    found_index=[]\n",
    "    target_len=len(target_list)\n",
    "    cur_dict={}\n",
    "    min_len=s_l+2\n",
    "    def is_match(cur_dict,target_counter):\n",
    "        for (k,v) in target_counter.items():\n",
    "            if cur_dict.get(k,0)<v:\n",
    "                return False\n",
    "        return True\n",
    "    flag=True\n",
    "    while right+1<s_l: #这个地方很奇怪，right+1 因为是属于right 从-1开始，并且统计结果是包含right+1的\n",
    "        \n",
    "        right+=1\n",
    "        r_s=s[right]\n",
    "        if r_s in target_list : \n",
    "            cur_dict[r_s]=cur_dict.get(r_s,0)+1\n",
    "\n",
    "        while is_match(cur_dict,target_counter): #如果匹配就不断缩left，直到不能不匹配，此时left 最紧，接着调整right\n",
    "                if right-left+1<min_len:\n",
    "                    min_len=right-left+1\n",
    "                    found_index=[left,right]\n",
    "\n",
    "                r_s=s[left] #调整left\n",
    "                print('left {}'.format(left))\n",
    "                if r_s in target_list :\n",
    "                    cur_dict[r_s]=cur_dict.get(r_s,0)-1\n",
    "                left+=1 \n",
    "        print(cur_dict)\n",
    "    return min_len,found_index\n",
    "                    \n",
    "\n",
    "            \n",
    "            \n",
    "s='1abc'\n",
    "p='abc'\n",
    "print(min_window(s,p))        \n",
    "    "
   ]
  },
  {
   "cell_type": "markdown",
   "metadata": {},
   "source": [
    "# 最短摘要算法\n",
    "\n",
    "扫描过程始终保持一个[pBegin,pEnd]的range,初始化确保[pBegin,pEnd]的range里包含所有关键字 。然后每次迭代，尝试调整pBegin和pEnd： \n",
    "\n",
    "1.pBegin递增，直到range无法包含所有关键字 \n",
    "\n",
    "2.pEnd递增，直到range重新包含所有关键字 \n",
    "\n",
    "计算新的range，与旧的range相比，看是否缩短了，如果是，则更新 不考虑关键字的先后顺序 。这里给出最短摘要算法的几个应用，首先是leetcode上面的两题：\n",
    "\n",
    "原文：https://blog.csdn.net/fangjian1204/article/details/38582181 \n"
   ]
  },
  {
   "cell_type": "code",
   "execution_count": 10,
   "metadata": {},
   "outputs": [
    {
     "data": {
      "text/plain": [
       "False"
      ]
     },
     "execution_count": 10,
     "metadata": {},
     "output_type": "execute_result"
    }
   ],
   "source": [
    "import operator\n",
    "operator.eq('ba','ab')"
   ]
  },
  {
   "cell_type": "code",
   "execution_count": 54,
   "metadata": {},
   "outputs": [
    {
     "name": "stdout",
     "output_type": "stream",
     "text": [
      "[1, 1, 1, 1, 2, 2, 2, 3]\n",
      "[1, 1, 2, 2, 2, 3]\n",
      "[1, 1, 2, 2, 2, 3]\n",
      "[1, 1, 2, 2, 3]\n",
      "[1, 1, 2, 2, 3]\n"
     ]
    }
   ],
   "source": [
    "# 080-Remove Duplicates from Sorted Array II\n",
    "# Given a sorted array nums, remove the duplicates in-place such that duplicates appeared at most\n",
    "# twice and return the new length.\n",
    "def twice(array):\n",
    "    i=0\n",
    "    while i< len(array)-1:\n",
    "        print(array)\n",
    "        if array[i]==array[i+1]:\n",
    "            value=array[i]\n",
    "            i+=1\n",
    "            j=i\n",
    "            while j+1< len(array):\n",
    "                if array[j+1]==value:\n",
    "                    array.pop(j+1)\n",
    "                else:\n",
    "                    break\n",
    "        else:\n",
    "            i+=1\n",
    "array=[1,1,1,1,2,2,2,3]\n",
    "twice(array)  \n",
    "print(array)"
   ]
  },
  {
   "cell_type": "code",
   "execution_count": 65,
   "metadata": {},
   "outputs": [
    {
     "name": "stdout",
     "output_type": "stream",
     "text": [
      "['e']\n",
      "['e', 'e']\n",
      "1 0\n",
      "2\n"
     ]
    }
   ],
   "source": [
    "# 340-Longest Substring with At Most K Distinct Characters\n",
    "# Given a string, find the length of the longest substring T\n",
    "# that contains at most k distinct characters.\n",
    "\n",
    "\n",
    "def longgest_sub(source,k):\n",
    "    from collections import Counter\n",
    "    left, right =0,0\n",
    "    def is_match(cur_set):\n",
    "        return True if len(cur_set)<=k else False\n",
    "    cur_set=set()\n",
    "    longgest=0\n",
    "    list_=[]\n",
    "    while right<len(source):\n",
    "        cur_set.add(source[right])\n",
    "        if right>=k-1:\n",
    "            if is_match(cur_set):\n",
    "                cur_long=right-left+1\n",
    "                if cur_long>longgest:\n",
    "                    longgest=cur_long\n",
    "                    print(right,left)\n",
    "                right+=1\n",
    "            else:\n",
    "                right+=1\n",
    "                cur_set.remove(source[left])\n",
    "                left+=1\n",
    "                \n",
    "        else:\n",
    "            right+=1\n",
    "        \n",
    "    \n",
    "    return longgest\n",
    "                    \n",
    "\n",
    "            \n",
    "            \n",
    "s='ee'\n",
    "p=2\n",
    "print(longgest_sub(s,p))        \n",
    "    "
   ]
  },
  {
   "cell_type": "markdown",
   "metadata": {},
   "source": [
    "## 239-Sliding Window Maximum\n",
    "\n",
    "1. 常规思路  \n",
    "常规思路：遍历数组，每次计算最大值，或者遍历K次，将题目化为两个窗口的方法，时间复杂度为O(N*K), 显然不满足需求。\n",
    "2. 最大堆  \n",
    "其实做过“寻找n个无穷数中寻找最大的K个数”这题的话，应该比较容易想到，用堆来处理这种“求连续输入的数据中的最值”的题目。思路还是比较像的。\n",
    "具体思路：\n",
    "构建一个大小为K的最大堆，每次从堆中取出窗口的最大值，随着窗口往右滑动，需要将堆中不属于窗口的堆顶元素删除。\n",
    "这里的堆，我们直接使用STL中的优先队列priority_queue（可以理解为另一种形式的堆）\n",
    "代码如下，复杂度为O(N*logN)  \n",
    "\n",
    "3. 双端队列  \n",
    "使用双端队列，队列元素降序排序，队首元素为所求最大值。滑动窗口右移，若出现的元素比队首（最大元素）大，此时清空队列，并将最大值插入队列。若比当前值小，则插入尾部。每次窗口右移的时候需要判断当前的最大值是否在有效范围，若不在，则需要将其从队列中删除。\n",
    "\n",
    "4. 某位大神的O(n)解法  \n",
    "大致思路就是对窗口值对数组进行分段，然后左右分别计算区域内最大值，最后归并。感觉非常smart啊。这个方法值得好好归纳一下，好像之前某些题也有类似的做法。\n"
   ]
  },
  {
   "cell_type": "code",
   "execution_count": null,
   "metadata": {},
   "outputs": [],
   "source": [
    "#239-Sliding Window Maximum\n",
    "#最大堆\n",
    "\n",
    "def solution2(array,k):\n",
    "    "
   ]
  },
  {
   "cell_type": "code",
   "execution_count": 67,
   "metadata": {},
   "outputs": [
    {
     "name": "stdout",
     "output_type": "stream",
     "text": [
      "[3, 3, 2, 3, 3, 3, 3, 3, 3, 3, 3, 3, 5, 5, 6, 7]\n"
     ]
    }
   ],
   "source": [
    "#Solution 2: Using dqueue O(n)\n",
    "#1. 如果队列为空，则当前数字入队列 \n",
    "#2. 如果当前数字大于队列尾，则删除队列尾，直到当前数字小于等于队列尾，或者队列空，然后当前数字入队列 \n",
    "#3. 如果当前数字小于队列尾，则当前数字入队列 \n",
    "#4. 如果队列头超出滑动窗口范围，则删除队列头 \n",
    "\n",
    "def maxSlidingWindow( nums, k):\n",
    "    \"\"\"\n",
    "    :type nums: List[int]\n",
    "    :type k: int\n",
    "    :rtype: List[int]\n",
    "    \"\"\"\n",
    "    res = []\n",
    "    queue = []\n",
    "    n = len(nums)\n",
    "\n",
    "    for i in range(n):\n",
    "        while queue and queue[-1] < nums[i] : #这里并没有用《=，所以对于等于队尾的也是可以保留的，这样避免后面考虑窗口过期问题时候，误伤\n",
    "            queue.pop()\n",
    "        queue.append(nums[i])\n",
    "\n",
    "        j = i - k\n",
    "        if i >= k and queue[0] == nums[j] : #这个主要把队头已经不再窗口的给删了，从i大于滑动窗口，每次i就可以考虑了\n",
    "            queue.pop(0)\n",
    "        if i >= k-1: #例如k=2，i已经从0开始所以i=1就可以考虑结果了。\n",
    "            res.append(queue[0])\n",
    "    return res\n",
    "nums = [1,3,-1,2,1,3,3,3,3,3,3,1,3,-3,5,3,6,7]\n",
    "k = 3\n",
    "print(maxSlidingWindow( nums, k))"
   ]
  },
  {
   "cell_type": "code",
   "execution_count": null,
   "metadata": {},
   "outputs": [],
   "source": []
  },
  {
   "cell_type": "code",
   "execution_count": null,
   "metadata": {},
   "outputs": [],
   "source": [
    "#244-Shortest Word Distance II\n",
    "\n",
    "class WordDistance(object):\n",
    "\n",
    "    def __init__(self, words):\n",
    "        \"\"\"\n",
    "        :type words: List[str]\n",
    "        \"\"\"\n",
    "        self.dic = {}\n",
    "        self.length = len(words)\n",
    "        for i, s in enumerate(words):\n",
    "            if s in self.dic:\n",
    "                self.dic[s].append(i)\n",
    "            else:\n",
    "                self.dic[s] = [i]\n",
    "\n",
    "\n",
    "    def shortest(self, word1, word2):\n",
    "        \"\"\"\n",
    "        :type word1: str\n",
    "        :type word2: str\n",
    "        :rtype: int\n",
    "        \"\"\"\n",
    "        pos1 = self.dic[word1]\n",
    "        pos2 = self.dic[word2]\n",
    "        n1 = len(pos1)\n",
    "        n2 = len(pos2)\n",
    "        i, j = 0, 0\n",
    "        res = self.length + 1\n",
    "        while i < n1 and j < n2: #and  这个条件 因为后面比较的时候 已经把如果j=n2-1 i需要考虑j=n2-1左右两边的情况的，至少左右两边是step=1，所以没必要考step2的情况没意义了。\n",
    "            res = min(res, abs(pos2[j] - pos1[i]))\n",
    "            if pos1[i] < pos2[j]: #谁小 就谁主动变大，靠近大的，因为构造字典是按list的index从小到大的\n",
    "                i += 1\n",
    "            else:\n",
    "                j += 1\n",
    "        return res"
   ]
  },
  {
   "cell_type": "markdown",
   "metadata": {},
   "source": [
    "# 3,4sum的问题也是考虑双指针\n",
    "先sort（顺序变成从小到大），一个从i+1开始，一个从尾巴开始，这样 如果这几个sum结果<target，那说明头指针小了，头指针往后；大了说明尾指针太大了，往前可以得到小一点的数据"
   ]
  },
  {
   "cell_type": "code",
   "execution_count": 68,
   "metadata": {},
   "outputs": [],
   "source": [
    "# 274-H-Index\n",
    "# Given an array of citations (each citation is a non-negative integer) of a researcher,\n",
    "# write a function to compute the researcher's h-index.\n",
    "\n",
    "class Solution(object):\n",
    "    def hIndex(self, citations):\n",
    "        \"\"\"\n",
    "        :type citations: List[int]\n",
    "        :rtype: int\n",
    "        \"\"\"\n",
    "        citations.sort()\n",
    "        n = len(citations)\n",
    "        #这个已经是排过序的，也就是说题目要是如果认为是h，那么要有篇文章都是h以上。\n",
    "        #那么排过序的最小值如果都满足后面的就都满足了。\n",
    "        #于是假设n，也就是最小的值也要是n，\n",
    "        #不行i已经到1了，那么就假设n-1，那么此时的最小值也就是i=1，看看满不满足n-1\n",
    "        #于是h 和就逆着了。\n",
    "        for i in range(n):\n",
    "            h = n - i\n",
    "            if citations[i] >= h:\n",
    "                return h\n",
    "        return 0\n",
    "\n",
    "    "
   ]
  },
  {
   "cell_type": "code",
   "execution_count": 69,
   "metadata": {},
   "outputs": [],
   "source": [
    "# 346-Moving Average from Data Stream\n",
    "# Given a stream of integers and a window size, calculate the moving average of all integers in the sliding window.\n",
    "#用一个队列先进先走维护窗口，然后走了的顺便把total给剪了，\n",
    "class MovingAverage(object):\n",
    "\n",
    "    def __init__(self, size):\n",
    "        \"\"\"\n",
    "        Initialize your data structure here.\n",
    "        :type size: int\n",
    "        \"\"\"\n",
    "        self.size = size\n",
    "        self.total = 0\n",
    "        self.q = []\n",
    "\n",
    "    def next(self, val):\n",
    "        \"\"\"\n",
    "        :type val: int\n",
    "        :rtype: float\n",
    "        \"\"\"\n",
    "        if len(self.q) < self.size :\n",
    "            self.q.append(val)\n",
    "            self.total = float(sum(self.q))\n",
    "            return self.total / len(self.q)\n",
    "        else:\n",
    "            head = self.q.pop(0) \n",
    "            self.q.append(val)\n",
    "            self.total = self.total - head + val\n",
    "            return self.total / self.size"
   ]
  },
  {
   "cell_type": "code",
   "execution_count": 73,
   "metadata": {},
   "outputs": [
    {
     "name": "stdout",
     "output_type": "stream",
     "text": [
      "5F3Z-2E9W\n"
     ]
    }
   ],
   "source": [
    "# Input: S = \"5F3Z-2e-9-w\", K = 4\n",
    "\n",
    "# Output: \"5F3Z-2E9W\"\n",
    "\n",
    "# Explanation: The string S has been split into two parts, each part has 4 characters.\n",
    "# Note that the two extra dashes are not needed and can be removed.\n",
    "\n",
    "def upp(keys,k):\n",
    "    keys=keys.replace('-','').upper()[::-1]\n",
    "    kg=[]\n",
    "    for i in range(0,len(keys),k):\n",
    "        kg.append(keys[i:i+k])\n",
    "    kg='-'.join(kg)\n",
    "    kg=kg[::-1]\n",
    "    print(kg)\n",
    "keys= \"5F3Z-2e-9-w\"\n",
    "k = 4\n",
    "upp(keys,k)"
   ]
  },
  {
   "cell_type": "code",
   "execution_count": 112,
   "metadata": {},
   "outputs": [
    {
     "name": "stdout",
     "output_type": "stream",
     "text": [
      "['dir', 'dir/subdir1', 'dir/subdir2', 'dir/subdir2/file.ext', 'dir/subdir2/fi3le.ext', 'dir/subdir3']\n"
     ]
    }
   ],
   "source": [
    "# 388-Longest Absolute File Path\n",
    "# Suppose we abstract our file system by a string in the following manner:\n",
    "# The string \"dir\\n\\tsubdir1\\n\\tsubdir2\\n\\t\\tfile.ext\" represents:\n",
    "# 先用\\n 切割， 得到几个路径部分\n",
    "# 有几个\\t那么堆里就应该剩下几个路径部分,先处理完堆里的情况\n",
    "#然后加入新的路径，然后记录结果\n",
    "def abs_path(path):\n",
    "    dirs=path.split('\\n')\n",
    "    if len(dirs)==0:\n",
    "        return 0\n",
    "    stack=[]\n",
    "    result=[]\n",
    "    def count_t(t_p):\n",
    "        dir_name = t_p.strip(\"\\t\")\n",
    "        t_c = len(t_p) - len(dir_name)\n",
    "        return t_c\n",
    "        \n",
    "    for i in range(0,len(dirs)):\n",
    "        cur_t=count_t(dirs[i])\n",
    "        cur_p=dirs[i].replace('\\t','')\n",
    "        while len(stack)!=cur_t:\n",
    "            stack.pop()\n",
    "        stack.append(cur_p)\n",
    "        result.append('/'.join(stack))\n",
    "    return result\n",
    "path=\"dir\\n\\tsubdir1\\n\\tsubdir2\\n\\t\\tfile.ext\\n\\t\\tfi3le.ext\\n\\tsubdir3\"\n",
    "print(abs_path(path))\n",
    "        \n",
    "        \n",
    "        "
   ]
  },
  {
   "cell_type": "code",
   "execution_count": 96,
   "metadata": {},
   "outputs": [
    {
     "ename": "ValueError",
     "evalue": "list.remove(x): x not in list",
     "output_type": "error",
     "traceback": [
      "\u001b[1;31m---------------------------------------------------------------------------\u001b[0m",
      "\u001b[1;31mValueError\u001b[0m                                Traceback (most recent call last)",
      "\u001b[1;32m<ipython-input-96-5ce71b67d55f>\u001b[0m in \u001b[0;36m<module>\u001b[1;34m()\u001b[0m\n\u001b[1;32m----> 1\u001b[1;33m \u001b[0mls\u001b[0m\u001b[1;33m.\u001b[0m\u001b[0mremove\u001b[0m\u001b[1;33m(\u001b[0m\u001b[1;36m0\u001b[0m\u001b[1;33m)\u001b[0m\u001b[1;33m\u001b[0m\u001b[0m\n\u001b[0m",
      "\u001b[1;31mValueError\u001b[0m: list.remove(x): x not in list"
     ]
    }
   ],
   "source": [
    "ls.remove(0)"
   ]
  },
  {
   "cell_type": "code",
   "execution_count": 81,
   "metadata": {},
   "outputs": [
    {
     "data": {
      "text/plain": [
       "[1, 2]"
      ]
     },
     "execution_count": 81,
     "metadata": {},
     "output_type": "execute_result"
    }
   ],
   "source": [
    "ls"
   ]
  },
  {
   "cell_type": "code",
   "execution_count": 82,
   "metadata": {},
   "outputs": [
    {
     "data": {
      "text/plain": [
       "'\\t\\t'"
      ]
     },
     "execution_count": 82,
     "metadata": {},
     "output_type": "execute_result"
    }
   ],
   "source": [
    "'\\t'*2\n"
   ]
  },
  {
   "attachments": {
    "%E5%9B%BE%E7%89%87.png": {
     "image/png": "[encoded data removed]"
    }
   },
   "cell_type": "markdown",
   "metadata": {},
   "source": [
    "# LeetCode Monotone Stack Summary 单调栈小结\n",
    "\n",
    "单调递增栈可以找到左起第一个比当前数字小的元素。比如数组 [2 1 4 6 5]，刚开始2入栈，数字1入栈的时候，发现栈顶元素2比较大，将2移出栈，此时1入栈。那么2和1都没左起比自身小的数字。然后数字4入栈的时候，栈顶元素1小于4，于是1就是4左起第一个小的数字。此时栈里有1和4，然后数字6入栈的时候，栈顶元素4小于6，于是4就是6左起第一个小的数字。此时栈里有1，4，6，然后数字5入栈的时候，栈顶元素6大于5，将6移除，此时新的栈顶元素4小于5，那么4就是5左起的第一个小的数字，最终栈内数字为1，4，5。\n",
    "\n",
    "单调栈的一大优势就是线性的时间复杂度，所有的元素只会进栈一次，而且一旦出栈后就不会再进来了。  \n",
    "**如果是维护单调递增的栈，那么需要再最后搞的dummy0 触发下，表示遇到递减了要处理了，否则最后一个没法处理**\n",
    "\n",
    "\n",
    "总结下套路：\n",
    "1.遇到stack为空，或者新的数据符合单调站\n",
    "2.不符合：考虑头尾的0怎么处理，头部则是是否要判定为空就不管了，尾巴要么加dummy。\n",
    "           在pop前面都需要加上while stack!=[]，如果都处理完了，就把新数据进入单调\n",
    "\n",
    " [Trapping Rain Water 收集雨水](http://www.cnblogs.com/grandyang/p/8887985.html)    \n",
    " [code](https://blog.csdn.net/zhc_24/article/details/83032653)  \n",
    "Given n non-negative integers representing an elevation map where the width of each bar is 1, compute how much water it is able to trap after raining.\n",
    "\n",
    "For example, \n",
    "Given [0,1,0,2,1,0,1,3,2,1,2,1], return 6.\n",
    "\n",
    "![%E5%9B%BE%E7%89%87.png](attachment:%E5%9B%BE%E7%89%87.png)"
   ]
  },
  {
   "cell_type": "code",
   "execution_count": 30,
   "metadata": {},
   "outputs": [
    {
     "name": "stdout",
     "output_type": "stream",
     "text": [
      "3 1\n",
      "6 2\n",
      "7 2\n",
      "7 5\n",
      "10 6\n",
      "6\n"
     ]
    }
   ],
   "source": [
    "def water(array):\n",
    "    stack=[]\n",
    "    result=0\n",
    "    for i in  range(len(array)):\n",
    "        #print(i)\n",
    "        if  stack==[] or array[stack[-1]]>=array[i]:\n",
    "            stack.append(i)\n",
    "        else:\n",
    "            while stack!=[] and array[stack[-1]]<array[i]:\n",
    "                min_level=array[stack.pop()] #最小的做底边\n",
    "                if stack!=[]:\n",
    "                    left_i=stack[-1] #次小的可能做边，所以只是取值，不弹出\n",
    "                    left=array[left_i]\n",
    "                    right=array[i]\n",
    "                    height=min(right,left)-min_level\n",
    "                    width=i-left_i-1\n",
    "                    result+=height*width\n",
    "                    print(i,result)\n",
    "            stack.append(i)\n",
    "    print(result)\n",
    "    \n",
    "    \n",
    "array= [0,1,0,2,1,0,1,3,2,1,2,1] #6\n",
    "\n",
    "water(array)"
   ]
  },
  {
   "attachments": {
    "%E5%9B%BE%E7%89%87.png": {
     "image/png": "[encoded data removed]"
    }
   },
   "cell_type": "markdown",
   "metadata": {},
   "source": [
    "# LeetCode  [Largest Rectangle in Histogram](http://www.cnblogs.com/lichen782/p/leetcode_Largest_Rectangle_in_Histogram.html)\n",
    "\n",
    "\n",
    "Given n non-negative integers representing the histogram's bar height where the width of each bar is 1, find the area of largest rectangle in the histogram.\n",
    "\n",
    "Above is a histogram where width of each bar is 1, given height = [2,1,5,6,2,3].\n",
    "\n",
    "**这题是靠递减的就触发，所以要在最后搞dummy0**\n",
    "\n",
    "![%E5%9B%BE%E7%89%87.png](attachment:%E5%9B%BE%E7%89%87.png)\n",
    "\n",
    "\n"
   ]
  },
  {
   "cell_type": "code",
   "execution_count": 34,
   "metadata": {},
   "outputs": [
    {
     "name": "stdout",
     "output_type": "stream",
     "text": [
      "1 2\n",
      "4 6\n",
      "4 10\n",
      "7 10\n",
      "7 20\n",
      "7 6\n",
      "7 6\n",
      "20\n"
     ]
    }
   ],
   "source": [
    "# array=[2,1,5,6,2,3] #reuslt is 10\n",
    "def rect(array):\n",
    "    array.append(0) #dummy 0\n",
    "    stack=[]\n",
    "    result=0\n",
    "    for i in  range(len(array)):\n",
    "        if  stack==[] or array[stack[-1]]<=array[i]:\n",
    "            stack.append(i)\n",
    "        else:\n",
    "            \n",
    "            highest_i=stack.pop()\n",
    "            highest=array[highest_i] #最高的柱子\n",
    "            result=max(result,highest*1)\n",
    "            print(i,highest*1)\n",
    "            while stack!=[] and array[stack[-1]]>array[i]:\n",
    "                left_i=stack.pop()\n",
    "                width=highest_i-left_i+1\n",
    "                height=array[left_i]\n",
    "                result=max(height*width,result)\n",
    "                print(i,height*width)\n",
    "            stack.append(i)\n",
    "    print(result)\n",
    "    \n",
    "    \n",
    "array= [2,1,5,6,2,10,10] #reuslt is 10\n",
    "\n",
    "rect(array)"
   ]
  },
  {
   "cell_type": "code",
   "execution_count": 44,
   "metadata": {},
   "outputs": [
    {
     "name": "stdout",
     "output_type": "stream",
     "text": [
      "[1, 1, 1, 1, 1, 1, 1, 0]\n"
     ]
    }
   ],
   "source": [
    "#[Leetcode] 739. Daily Temperatures \n",
    "\n",
    "def temperatures(temp):\n",
    "    stack=[]\n",
    "    result=[]\n",
    "    for t in range(len(temp)-1,-1,-1):\n",
    "        if stack==[]:\n",
    "            stack.append(t)\n",
    "            result.append(0)\n",
    "        else:\n",
    "            \n",
    "            while stack==[] and temp[stack[-1]]<=temp[t]:\n",
    "                stack.pop()\n",
    "            if stack==[]:\n",
    "                result.append(0)\n",
    "            else:\n",
    "                result.append(stack[-1]-t)\n",
    "            stack.append(t)\n",
    "    result.reverse()\n",
    "    print(result)\n",
    "temp=[73, 74, 75, 71, 69, 72, 76, 73]#, your output should be [1, 1, 4, 2, 1, 1, 0, 0]\n",
    "temperatures(temp)"
   ]
  },
  {
   "cell_type": "code",
   "execution_count": null,
   "metadata": {},
   "outputs": [],
   "source": []
  }
 ],
 "metadata": {
  "kernelspec": {
   "display_name": "Python 3",
   "language": "python",
   "name": "python3"
  },
  "language_info": {
   "codemirror_mode": {
    "name": "ipython",
    "version": 3
   },
   "file_extension": ".py",
   "mimetype": "text/x-python",
   "name": "python",
   "nbconvert_exporter": "python",
   "pygments_lexer": "ipython3",
   "version": "3.6.4"
  }
 },
 "nbformat": 4,
 "nbformat_minor": 2
}
